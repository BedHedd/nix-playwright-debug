{
 "cells": [
  {
   "cell_type": "markdown",
   "id": "389f6938",
   "metadata": {},
   "source": [
    "# running BenediktSeidl's code\n",
    "This doesn't run in notebooks. check the [the script version](playwright-test.py). The error is the same in the next code blocks"
   ]
  },
  {
   "cell_type": "code",
   "execution_count": null,
   "id": "81c045d7",
   "metadata": {},
   "outputs": [
    {
     "ename": "Error",
     "evalue": "It looks like you are using Playwright Sync API inside the asyncio loop.\nPlease use the Async API instead.",
     "output_type": "error",
     "traceback": [
      "\u001b[31m---------------------------------------------------------------------------\u001b[39m",
      "\u001b[31mError\u001b[39m                                     Traceback (most recent call last)",
      "\u001b[36mCell\u001b[39m\u001b[36m \u001b[39m\u001b[32mIn[2]\u001b[39m\u001b[32m, line 2\u001b[39m\n\u001b[32m      1\u001b[39m \u001b[38;5;28;01mfrom\u001b[39;00m\u001b[38;5;250m \u001b[39m\u001b[34;01mplaywright\u001b[39;00m\u001b[34;01m.\u001b[39;00m\u001b[34;01msync_api\u001b[39;00m\u001b[38;5;250m \u001b[39m\u001b[38;5;28;01mimport\u001b[39;00m sync_playwright\n\u001b[32m----> \u001b[39m\u001b[32m2\u001b[39m \u001b[38;5;28;43;01mwith\u001b[39;49;00m\u001b[43m \u001b[49m\u001b[43msync_playwright\u001b[49m\u001b[43m(\u001b[49m\u001b[43m)\u001b[49m\u001b[43m \u001b[49m\u001b[38;5;28;43;01mas\u001b[39;49;00m\u001b[43m \u001b[49m\u001b[43mp\u001b[49m\u001b[43m:\u001b[49m\n\u001b[32m      3\u001b[39m \u001b[43m    \u001b[49m\u001b[43mp\u001b[49m\u001b[43m.\u001b[49m\u001b[43mfirefox\u001b[49m\u001b[43m.\u001b[49m\u001b[43mlaunch\u001b[49m\u001b[43m(\u001b[49m\u001b[43m)\u001b[49m\n",
      "\u001b[36mFile \u001b[39m\u001b[32m~/Documents/development_projects/bedhedd_projects/playwright-debug/.venv/lib/python3.13/site-packages/playwright/sync_api/_context_manager.py:47\u001b[39m, in \u001b[36mPlaywrightContextManager.__enter__\u001b[39m\u001b[34m(self)\u001b[39m\n\u001b[32m     45\u001b[39m             \u001b[38;5;28mself\u001b[39m._own_loop = \u001b[38;5;28;01mTrue\u001b[39;00m\n\u001b[32m     46\u001b[39m         \u001b[38;5;28;01mif\u001b[39;00m \u001b[38;5;28mself\u001b[39m._loop.is_running():\n\u001b[32m---> \u001b[39m\u001b[32m47\u001b[39m             \u001b[38;5;28;01mraise\u001b[39;00m Error(\n\u001b[32m     48\u001b[39m \u001b[38;5;250m                \u001b[39m\u001b[33;03m\"\"\"It looks like you are using Playwright Sync API inside the asyncio loop.\u001b[39;00m\n\u001b[32m     49\u001b[39m \u001b[33;03mPlease use the Async API instead.\"\"\"\u001b[39;00m\n\u001b[32m     50\u001b[39m             )\n\u001b[32m     52\u001b[39m         \u001b[38;5;66;03m# Create a new fiber for the protocol dispatcher. It will be pumping events\u001b[39;00m\n\u001b[32m     53\u001b[39m         \u001b[38;5;66;03m# until the end of times. We will pass control to that fiber every time we\u001b[39;00m\n\u001b[32m     54\u001b[39m         \u001b[38;5;66;03m# block while waiting for a response.\u001b[39;00m\n\u001b[32m     55\u001b[39m         \u001b[38;5;28;01mdef\u001b[39;00m\u001b[38;5;250m \u001b[39m\u001b[34mgreenlet_main\u001b[39m() -> \u001b[38;5;28;01mNone\u001b[39;00m:\n",
      "\u001b[31mError\u001b[39m: It looks like you are using Playwright Sync API inside the asyncio loop.\nPlease use the Async API instead."
     ]
    }
   ],
   "source": [
    "from playwright.sync_api import sync_playwright\n",
    "with sync_playwright() as p:\n",
    "    p.firefox.launch()"
   ]
  },
  {
   "cell_type": "markdown",
   "id": "dac3757a",
   "metadata": {},
   "source": [
    "# example of path not working"
   ]
  },
  {
   "cell_type": "code",
   "execution_count": 15,
   "id": "f30ca3f0",
   "metadata": {},
   "outputs": [
    {
     "ename": "Error",
     "evalue": "BrowserType.launch: Executable doesn't exist at /nix/store/42axmwmwydsh8kzznd1mz7lnmg0a1zkk-playwright-browsers/firefox-1488/firefox/firefox\n╔════════════════════════════════════════════════════════════╗\n║ Looks like Playwright was just installed or updated.       ║\n║ Please run the following command to download new browsers: ║\n║                                                            ║\n║     playwright install                                     ║\n║                                                            ║\n║ <3 Playwright Team                                         ║\n╚════════════════════════════════════════════════════════════╝",
     "output_type": "error",
     "traceback": [
      "\u001b[31m---------------------------------------------------------------------------\u001b[39m",
      "\u001b[31mError\u001b[39m                                     Traceback (most recent call last)",
      "\u001b[36mCell\u001b[39m\u001b[36m \u001b[39m\u001b[32mIn[15]\u001b[39m\u001b[32m, line 3\u001b[39m\n\u001b[32m      1\u001b[39m \u001b[38;5;28;01mfrom\u001b[39;00m\u001b[38;5;250m \u001b[39m\u001b[34;01mplaywright\u001b[39;00m\u001b[34;01m.\u001b[39;00m\u001b[34;01masync_api\u001b[39;00m\u001b[38;5;250m \u001b[39m\u001b[38;5;28;01mimport\u001b[39;00m async_playwright\n\u001b[32m      2\u001b[39m \u001b[38;5;28;01masync\u001b[39;00m \u001b[38;5;28;01mwith\u001b[39;00m async_playwright() \u001b[38;5;28;01mas\u001b[39;00m p:\n\u001b[32m----> \u001b[39m\u001b[32m3\u001b[39m     browser = \u001b[38;5;28;01mawait\u001b[39;00m p.firefox.launch(headless=\u001b[38;5;28;01mFalse\u001b[39;00m)\n\u001b[32m      4\u001b[39m     page    = \u001b[38;5;28;01mawait\u001b[39;00m browser.new_page()\n\u001b[32m      5\u001b[39m     \u001b[38;5;28;01mawait\u001b[39;00m page.goto(\u001b[33m\"\u001b[39m\u001b[33mhttps://nixos.org\u001b[39m\u001b[33m\"\u001b[39m)\n",
      "\u001b[36mFile \u001b[39m\u001b[32m~/Documents/development_projects/bedhedd_projects/playwright-debug/.venv/lib/python3.13/site-packages/playwright/async_api/_generated.py:14438\u001b[39m, in \u001b[36mBrowserType.launch\u001b[39m\u001b[34m(self, executable_path, channel, args, ignore_default_args, handle_sigint, handle_sigterm, handle_sighup, timeout, env, headless, devtools, proxy, downloads_path, slow_mo, traces_dir, chromium_sandbox, firefox_user_prefs)\u001b[39m\n\u001b[32m  14317\u001b[39m \u001b[38;5;28;01masync\u001b[39;00m \u001b[38;5;28;01mdef\u001b[39;00m\u001b[38;5;250m \u001b[39m\u001b[34mlaunch\u001b[39m(\n\u001b[32m  14318\u001b[39m     \u001b[38;5;28mself\u001b[39m,\n\u001b[32m  14319\u001b[39m     *,\n\u001b[32m   (...)\u001b[39m\u001b[32m  14340\u001b[39m     ] = \u001b[38;5;28;01mNone\u001b[39;00m,\n\u001b[32m  14341\u001b[39m ) -> \u001b[33m\"\u001b[39m\u001b[33mBrowser\u001b[39m\u001b[33m\"\u001b[39m:\n\u001b[32m  14342\u001b[39m \u001b[38;5;250m    \u001b[39m\u001b[33;03m\"\"\"BrowserType.launch\u001b[39;00m\n\u001b[32m  14343\u001b[39m \n\u001b[32m  14344\u001b[39m \u001b[33;03m    Returns the browser instance.\u001b[39;00m\n\u001b[32m   (...)\u001b[39m\u001b[32m  14434\u001b[39m \u001b[33;03m    Browser\u001b[39;00m\n\u001b[32m  14435\u001b[39m \u001b[33;03m    \"\"\"\u001b[39;00m\n\u001b[32m  14437\u001b[39m     \u001b[38;5;28;01mreturn\u001b[39;00m mapping.from_impl(\n\u001b[32m> \u001b[39m\u001b[32m14438\u001b[39m         \u001b[38;5;28;01mawait\u001b[39;00m \u001b[38;5;28mself\u001b[39m._impl_obj.launch(\n\u001b[32m  14439\u001b[39m             executablePath=executable_path,\n\u001b[32m  14440\u001b[39m             channel=channel,\n\u001b[32m  14441\u001b[39m             args=mapping.to_impl(args),\n\u001b[32m  14442\u001b[39m             ignoreDefaultArgs=mapping.to_impl(ignore_default_args),\n\u001b[32m  14443\u001b[39m             handleSIGINT=handle_sigint,\n\u001b[32m  14444\u001b[39m             handleSIGTERM=handle_sigterm,\n\u001b[32m  14445\u001b[39m             handleSIGHUP=handle_sighup,\n\u001b[32m  14446\u001b[39m             timeout=timeout,\n\u001b[32m  14447\u001b[39m             env=mapping.to_impl(env),\n\u001b[32m  14448\u001b[39m             headless=headless,\n\u001b[32m  14449\u001b[39m             devtools=devtools,\n\u001b[32m  14450\u001b[39m             proxy=proxy,\n\u001b[32m  14451\u001b[39m             downloadsPath=downloads_path,\n\u001b[32m  14452\u001b[39m             slowMo=slow_mo,\n\u001b[32m  14453\u001b[39m             tracesDir=traces_dir,\n\u001b[32m  14454\u001b[39m             chromiumSandbox=chromium_sandbox,\n\u001b[32m  14455\u001b[39m             firefoxUserPrefs=mapping.to_impl(firefox_user_prefs),\n\u001b[32m  14456\u001b[39m         )\n\u001b[32m  14457\u001b[39m     )\n",
      "\u001b[36mFile \u001b[39m\u001b[32m~/Documents/development_projects/bedhedd_projects/playwright-debug/.venv/lib/python3.13/site-packages/playwright/_impl/_browser_type.py:98\u001b[39m, in \u001b[36mBrowserType.launch\u001b[39m\u001b[34m(self, executablePath, channel, args, ignoreDefaultArgs, handleSIGINT, handleSIGTERM, handleSIGHUP, timeout, env, headless, devtools, proxy, downloadsPath, slowMo, tracesDir, chromiumSandbox, firefoxUserPrefs)\u001b[39m\n\u001b[32m     93\u001b[39m params = locals_to_params(\u001b[38;5;28mlocals\u001b[39m())\n\u001b[32m     94\u001b[39m normalize_launch_params(params)\n\u001b[32m     95\u001b[39m browser = cast(\n\u001b[32m     96\u001b[39m     Browser,\n\u001b[32m     97\u001b[39m     from_channel(\n\u001b[32m---> \u001b[39m\u001b[32m98\u001b[39m         \u001b[38;5;28;01mawait\u001b[39;00m \u001b[38;5;28mself\u001b[39m._channel.send(\n\u001b[32m     99\u001b[39m             \u001b[33m\"\u001b[39m\u001b[33mlaunch\u001b[39m\u001b[33m\"\u001b[39m, TimeoutSettings.launch_timeout, params\n\u001b[32m    100\u001b[39m         )\n\u001b[32m    101\u001b[39m     ),\n\u001b[32m    102\u001b[39m )\n\u001b[32m    103\u001b[39m browser._connect_to_browser_type(\n\u001b[32m    104\u001b[39m     \u001b[38;5;28mself\u001b[39m, \u001b[38;5;28mstr\u001b[39m(tracesDir) \u001b[38;5;28;01mif\u001b[39;00m tracesDir \u001b[38;5;129;01mis\u001b[39;00m \u001b[38;5;129;01mnot\u001b[39;00m \u001b[38;5;28;01mNone\u001b[39;00m \u001b[38;5;28;01melse\u001b[39;00m \u001b[38;5;28;01mNone\u001b[39;00m\n\u001b[32m    105\u001b[39m )\n\u001b[32m    106\u001b[39m \u001b[38;5;28;01mreturn\u001b[39;00m browser\n",
      "\u001b[36mFile \u001b[39m\u001b[32m~/Documents/development_projects/bedhedd_projects/playwright-debug/.venv/lib/python3.13/site-packages/playwright/_impl/_connection.py:69\u001b[39m, in \u001b[36mChannel.send\u001b[39m\u001b[34m(self, method, timeout_calculator, params, is_internal, title)\u001b[39m\n\u001b[32m     61\u001b[39m \u001b[38;5;28;01masync\u001b[39;00m \u001b[38;5;28;01mdef\u001b[39;00m\u001b[38;5;250m \u001b[39m\u001b[34msend\u001b[39m(\n\u001b[32m     62\u001b[39m     \u001b[38;5;28mself\u001b[39m,\n\u001b[32m     63\u001b[39m     method: \u001b[38;5;28mstr\u001b[39m,\n\u001b[32m   (...)\u001b[39m\u001b[32m     67\u001b[39m     title: \u001b[38;5;28mstr\u001b[39m = \u001b[38;5;28;01mNone\u001b[39;00m,\n\u001b[32m     68\u001b[39m ) -> Any:\n\u001b[32m---> \u001b[39m\u001b[32m69\u001b[39m     \u001b[38;5;28;01mreturn\u001b[39;00m \u001b[38;5;28;01mawait\u001b[39;00m \u001b[38;5;28mself\u001b[39m._connection.wrap_api_call(\n\u001b[32m     70\u001b[39m         \u001b[38;5;28;01mlambda\u001b[39;00m: \u001b[38;5;28mself\u001b[39m._inner_send(method, timeout_calculator, params, \u001b[38;5;28;01mFalse\u001b[39;00m),\n\u001b[32m     71\u001b[39m         is_internal,\n\u001b[32m     72\u001b[39m         title,\n\u001b[32m     73\u001b[39m     )\n",
      "\u001b[36mFile \u001b[39m\u001b[32m~/Documents/development_projects/bedhedd_projects/playwright-debug/.venv/lib/python3.13/site-packages/playwright/_impl/_connection.py:558\u001b[39m, in \u001b[36mConnection.wrap_api_call\u001b[39m\u001b[34m(self, cb, is_internal, title)\u001b[39m\n\u001b[32m    556\u001b[39m     \u001b[38;5;28;01mreturn\u001b[39;00m \u001b[38;5;28;01mawait\u001b[39;00m cb()\n\u001b[32m    557\u001b[39m \u001b[38;5;28;01mexcept\u001b[39;00m \u001b[38;5;167;01mException\u001b[39;00m \u001b[38;5;28;01mas\u001b[39;00m error:\n\u001b[32m--> \u001b[39m\u001b[32m558\u001b[39m     \u001b[38;5;28;01mraise\u001b[39;00m rewrite_error(error, \u001b[33mf\u001b[39m\u001b[33m\"\u001b[39m\u001b[38;5;132;01m{\u001b[39;00mparsed_st[\u001b[33m'\u001b[39m\u001b[33mapiName\u001b[39m\u001b[33m'\u001b[39m]\u001b[38;5;132;01m}\u001b[39;00m\u001b[33m: \u001b[39m\u001b[38;5;132;01m{\u001b[39;00merror\u001b[38;5;132;01m}\u001b[39;00m\u001b[33m\"\u001b[39m) \u001b[38;5;28;01mfrom\u001b[39;00m\u001b[38;5;250m \u001b[39m\u001b[38;5;28;01mNone\u001b[39;00m\n\u001b[32m    559\u001b[39m \u001b[38;5;28;01mfinally\u001b[39;00m:\n\u001b[32m    560\u001b[39m     \u001b[38;5;28mself\u001b[39m._api_zone.set(\u001b[38;5;28;01mNone\u001b[39;00m)\n",
      "\u001b[31mError\u001b[39m: BrowserType.launch: Executable doesn't exist at /nix/store/42axmwmwydsh8kzznd1mz7lnmg0a1zkk-playwright-browsers/firefox-1488/firefox/firefox\n╔════════════════════════════════════════════════════════════╗\n║ Looks like Playwright was just installed or updated.       ║\n║ Please run the following command to download new browsers: ║\n║                                                            ║\n║     playwright install                                     ║\n║                                                            ║\n║ <3 Playwright Team                                         ║\n╚════════════════════════════════════════════════════════════╝"
     ]
    }
   ],
   "source": [
    "from playwright.async_api import async_playwright\n",
    "async with async_playwright() as p:\n",
    "    browser = await p.firefox.launch(headless=False)\n",
    "    page    = await browser.new_page()\n",
    "    await page.goto(\"https://nixos.org\")\n",
    "    print(\"Title:\", await page.title())\n",
    "    await browser.close()"
   ]
  },
  {
   "cell_type": "code",
   "execution_count": 16,
   "id": "ea4a61b4",
   "metadata": {},
   "outputs": [
    {
     "ename": "Error",
     "evalue": "BrowserType.launch: Executable doesn't exist at /nix/store/42axmwmwydsh8kzznd1mz7lnmg0a1zkk-playwright-browsers/chromium-1179/chrome-linux/chrome\n╔════════════════════════════════════════════════════════════╗\n║ Looks like Playwright was just installed or updated.       ║\n║ Please run the following command to download new browsers: ║\n║                                                            ║\n║     playwright install                                     ║\n║                                                            ║\n║ <3 Playwright Team                                         ║\n╚════════════════════════════════════════════════════════════╝",
     "output_type": "error",
     "traceback": [
      "\u001b[31m---------------------------------------------------------------------------\u001b[39m",
      "\u001b[31mError\u001b[39m                                     Traceback (most recent call last)",
      "\u001b[36mCell\u001b[39m\u001b[36m \u001b[39m\u001b[32mIn[16]\u001b[39m\u001b[32m, line 3\u001b[39m\n\u001b[32m      1\u001b[39m \u001b[38;5;28;01mfrom\u001b[39;00m\u001b[38;5;250m \u001b[39m\u001b[34;01mplaywright\u001b[39;00m\u001b[34;01m.\u001b[39;00m\u001b[34;01masync_api\u001b[39;00m\u001b[38;5;250m \u001b[39m\u001b[38;5;28;01mimport\u001b[39;00m async_playwright\n\u001b[32m      2\u001b[39m \u001b[38;5;28;01masync\u001b[39;00m \u001b[38;5;28;01mwith\u001b[39;00m async_playwright() \u001b[38;5;28;01mas\u001b[39;00m p:\n\u001b[32m----> \u001b[39m\u001b[32m3\u001b[39m     browser = \u001b[38;5;28;01mawait\u001b[39;00m p.chromium.launch(headless=\u001b[38;5;28;01mFalse\u001b[39;00m)\n\u001b[32m      4\u001b[39m     page    = \u001b[38;5;28;01mawait\u001b[39;00m browser.new_page()\n\u001b[32m      5\u001b[39m     \u001b[38;5;28;01mawait\u001b[39;00m page.goto(\u001b[33m\"\u001b[39m\u001b[33mhttps://nixos.org\u001b[39m\u001b[33m\"\u001b[39m)\n",
      "\u001b[36mFile \u001b[39m\u001b[32m~/Documents/development_projects/bedhedd_projects/playwright-debug/.venv/lib/python3.13/site-packages/playwright/async_api/_generated.py:14438\u001b[39m, in \u001b[36mBrowserType.launch\u001b[39m\u001b[34m(self, executable_path, channel, args, ignore_default_args, handle_sigint, handle_sigterm, handle_sighup, timeout, env, headless, devtools, proxy, downloads_path, slow_mo, traces_dir, chromium_sandbox, firefox_user_prefs)\u001b[39m\n\u001b[32m  14317\u001b[39m \u001b[38;5;28;01masync\u001b[39;00m \u001b[38;5;28;01mdef\u001b[39;00m\u001b[38;5;250m \u001b[39m\u001b[34mlaunch\u001b[39m(\n\u001b[32m  14318\u001b[39m     \u001b[38;5;28mself\u001b[39m,\n\u001b[32m  14319\u001b[39m     *,\n\u001b[32m   (...)\u001b[39m\u001b[32m  14340\u001b[39m     ] = \u001b[38;5;28;01mNone\u001b[39;00m,\n\u001b[32m  14341\u001b[39m ) -> \u001b[33m\"\u001b[39m\u001b[33mBrowser\u001b[39m\u001b[33m\"\u001b[39m:\n\u001b[32m  14342\u001b[39m \u001b[38;5;250m    \u001b[39m\u001b[33;03m\"\"\"BrowserType.launch\u001b[39;00m\n\u001b[32m  14343\u001b[39m \n\u001b[32m  14344\u001b[39m \u001b[33;03m    Returns the browser instance.\u001b[39;00m\n\u001b[32m   (...)\u001b[39m\u001b[32m  14434\u001b[39m \u001b[33;03m    Browser\u001b[39;00m\n\u001b[32m  14435\u001b[39m \u001b[33;03m    \"\"\"\u001b[39;00m\n\u001b[32m  14437\u001b[39m     \u001b[38;5;28;01mreturn\u001b[39;00m mapping.from_impl(\n\u001b[32m> \u001b[39m\u001b[32m14438\u001b[39m         \u001b[38;5;28;01mawait\u001b[39;00m \u001b[38;5;28mself\u001b[39m._impl_obj.launch(\n\u001b[32m  14439\u001b[39m             executablePath=executable_path,\n\u001b[32m  14440\u001b[39m             channel=channel,\n\u001b[32m  14441\u001b[39m             args=mapping.to_impl(args),\n\u001b[32m  14442\u001b[39m             ignoreDefaultArgs=mapping.to_impl(ignore_default_args),\n\u001b[32m  14443\u001b[39m             handleSIGINT=handle_sigint,\n\u001b[32m  14444\u001b[39m             handleSIGTERM=handle_sigterm,\n\u001b[32m  14445\u001b[39m             handleSIGHUP=handle_sighup,\n\u001b[32m  14446\u001b[39m             timeout=timeout,\n\u001b[32m  14447\u001b[39m             env=mapping.to_impl(env),\n\u001b[32m  14448\u001b[39m             headless=headless,\n\u001b[32m  14449\u001b[39m             devtools=devtools,\n\u001b[32m  14450\u001b[39m             proxy=proxy,\n\u001b[32m  14451\u001b[39m             downloadsPath=downloads_path,\n\u001b[32m  14452\u001b[39m             slowMo=slow_mo,\n\u001b[32m  14453\u001b[39m             tracesDir=traces_dir,\n\u001b[32m  14454\u001b[39m             chromiumSandbox=chromium_sandbox,\n\u001b[32m  14455\u001b[39m             firefoxUserPrefs=mapping.to_impl(firefox_user_prefs),\n\u001b[32m  14456\u001b[39m         )\n\u001b[32m  14457\u001b[39m     )\n",
      "\u001b[36mFile \u001b[39m\u001b[32m~/Documents/development_projects/bedhedd_projects/playwright-debug/.venv/lib/python3.13/site-packages/playwright/_impl/_browser_type.py:98\u001b[39m, in \u001b[36mBrowserType.launch\u001b[39m\u001b[34m(self, executablePath, channel, args, ignoreDefaultArgs, handleSIGINT, handleSIGTERM, handleSIGHUP, timeout, env, headless, devtools, proxy, downloadsPath, slowMo, tracesDir, chromiumSandbox, firefoxUserPrefs)\u001b[39m\n\u001b[32m     93\u001b[39m params = locals_to_params(\u001b[38;5;28mlocals\u001b[39m())\n\u001b[32m     94\u001b[39m normalize_launch_params(params)\n\u001b[32m     95\u001b[39m browser = cast(\n\u001b[32m     96\u001b[39m     Browser,\n\u001b[32m     97\u001b[39m     from_channel(\n\u001b[32m---> \u001b[39m\u001b[32m98\u001b[39m         \u001b[38;5;28;01mawait\u001b[39;00m \u001b[38;5;28mself\u001b[39m._channel.send(\n\u001b[32m     99\u001b[39m             \u001b[33m\"\u001b[39m\u001b[33mlaunch\u001b[39m\u001b[33m\"\u001b[39m, TimeoutSettings.launch_timeout, params\n\u001b[32m    100\u001b[39m         )\n\u001b[32m    101\u001b[39m     ),\n\u001b[32m    102\u001b[39m )\n\u001b[32m    103\u001b[39m browser._connect_to_browser_type(\n\u001b[32m    104\u001b[39m     \u001b[38;5;28mself\u001b[39m, \u001b[38;5;28mstr\u001b[39m(tracesDir) \u001b[38;5;28;01mif\u001b[39;00m tracesDir \u001b[38;5;129;01mis\u001b[39;00m \u001b[38;5;129;01mnot\u001b[39;00m \u001b[38;5;28;01mNone\u001b[39;00m \u001b[38;5;28;01melse\u001b[39;00m \u001b[38;5;28;01mNone\u001b[39;00m\n\u001b[32m    105\u001b[39m )\n\u001b[32m    106\u001b[39m \u001b[38;5;28;01mreturn\u001b[39;00m browser\n",
      "\u001b[36mFile \u001b[39m\u001b[32m~/Documents/development_projects/bedhedd_projects/playwright-debug/.venv/lib/python3.13/site-packages/playwright/_impl/_connection.py:69\u001b[39m, in \u001b[36mChannel.send\u001b[39m\u001b[34m(self, method, timeout_calculator, params, is_internal, title)\u001b[39m\n\u001b[32m     61\u001b[39m \u001b[38;5;28;01masync\u001b[39;00m \u001b[38;5;28;01mdef\u001b[39;00m\u001b[38;5;250m \u001b[39m\u001b[34msend\u001b[39m(\n\u001b[32m     62\u001b[39m     \u001b[38;5;28mself\u001b[39m,\n\u001b[32m     63\u001b[39m     method: \u001b[38;5;28mstr\u001b[39m,\n\u001b[32m   (...)\u001b[39m\u001b[32m     67\u001b[39m     title: \u001b[38;5;28mstr\u001b[39m = \u001b[38;5;28;01mNone\u001b[39;00m,\n\u001b[32m     68\u001b[39m ) -> Any:\n\u001b[32m---> \u001b[39m\u001b[32m69\u001b[39m     \u001b[38;5;28;01mreturn\u001b[39;00m \u001b[38;5;28;01mawait\u001b[39;00m \u001b[38;5;28mself\u001b[39m._connection.wrap_api_call(\n\u001b[32m     70\u001b[39m         \u001b[38;5;28;01mlambda\u001b[39;00m: \u001b[38;5;28mself\u001b[39m._inner_send(method, timeout_calculator, params, \u001b[38;5;28;01mFalse\u001b[39;00m),\n\u001b[32m     71\u001b[39m         is_internal,\n\u001b[32m     72\u001b[39m         title,\n\u001b[32m     73\u001b[39m     )\n",
      "\u001b[36mFile \u001b[39m\u001b[32m~/Documents/development_projects/bedhedd_projects/playwright-debug/.venv/lib/python3.13/site-packages/playwright/_impl/_connection.py:558\u001b[39m, in \u001b[36mConnection.wrap_api_call\u001b[39m\u001b[34m(self, cb, is_internal, title)\u001b[39m\n\u001b[32m    556\u001b[39m     \u001b[38;5;28;01mreturn\u001b[39;00m \u001b[38;5;28;01mawait\u001b[39;00m cb()\n\u001b[32m    557\u001b[39m \u001b[38;5;28;01mexcept\u001b[39;00m \u001b[38;5;167;01mException\u001b[39;00m \u001b[38;5;28;01mas\u001b[39;00m error:\n\u001b[32m--> \u001b[39m\u001b[32m558\u001b[39m     \u001b[38;5;28;01mraise\u001b[39;00m rewrite_error(error, \u001b[33mf\u001b[39m\u001b[33m\"\u001b[39m\u001b[38;5;132;01m{\u001b[39;00mparsed_st[\u001b[33m'\u001b[39m\u001b[33mapiName\u001b[39m\u001b[33m'\u001b[39m]\u001b[38;5;132;01m}\u001b[39;00m\u001b[33m: \u001b[39m\u001b[38;5;132;01m{\u001b[39;00merror\u001b[38;5;132;01m}\u001b[39;00m\u001b[33m\"\u001b[39m) \u001b[38;5;28;01mfrom\u001b[39;00m\u001b[38;5;250m \u001b[39m\u001b[38;5;28;01mNone\u001b[39;00m\n\u001b[32m    559\u001b[39m \u001b[38;5;28;01mfinally\u001b[39;00m:\n\u001b[32m    560\u001b[39m     \u001b[38;5;28mself\u001b[39m._api_zone.set(\u001b[38;5;28;01mNone\u001b[39;00m)\n",
      "\u001b[31mError\u001b[39m: BrowserType.launch: Executable doesn't exist at /nix/store/42axmwmwydsh8kzznd1mz7lnmg0a1zkk-playwright-browsers/chromium-1179/chrome-linux/chrome\n╔════════════════════════════════════════════════════════════╗\n║ Looks like Playwright was just installed or updated.       ║\n║ Please run the following command to download new browsers: ║\n║                                                            ║\n║     playwright install                                     ║\n║                                                            ║\n║ <3 Playwright Team                                         ║\n╚════════════════════════════════════════════════════════════╝"
     ]
    }
   ],
   "source": [
    "from playwright.async_api import async_playwright\n",
    "async with async_playwright() as p:\n",
    "    browser = await p.chromium.launch(headless=False)\n",
    "    page    = await browser.new_page()\n",
    "    await page.goto(\"https://nixos.org\")\n",
    "    print(\"Title:\", await page.title())\n",
    "    await browser.close()"
   ]
  },
  {
   "cell_type": "markdown",
   "id": "9d93b8be",
   "metadata": {},
   "source": [
    "# setting custom executable paths\n",
    "If I set a custom executable path, playwright code will work."
   ]
  },
  {
   "cell_type": "markdown",
   "id": "b343f87e",
   "metadata": {},
   "source": [
    "The python playwright api will store the available browsers in `./.venv/lib/python3.13/site-packages/playwright/driver/package/browsers.json`.\n",
    "\n",
    "```json\n",
    "{\n",
    "  \"comment\": \"Do not edit this file, use utils/roll_browser.js\",\n",
    "  \"browsers\": [\n",
    "    {\n",
    "      \"name\": \"chromium\",\n",
    "      \"revision\": \"1179\",\n",
    "      \"installByDefault\": true,\n",
    "      \"browserVersion\": \"138.0.7204.23\"\n",
    "    },\n",
    "    {\n",
    "      \"name\": \"chromium-headless-shell\",\n",
    "      \"revision\": \"1179\",\n",
    "      \"installByDefault\": true,\n",
    "      \"browserVersion\": \"138.0.7204.23\"\n",
    "    },\n",
    "    {\n",
    "      \"name\": \"chromium-tip-of-tree\",\n",
    "      \"revision\": \"1337\",\n",
    "      \"installByDefault\": false,\n",
    "      \"browserVersion\": \"139.0.7216.0\"\n",
    "    },\n",
    "    {\n",
    "      \"name\": \"chromium-tip-of-tree-headless-shell\",\n",
    "      \"revision\": \"1337\",\n",
    "      \"installByDefault\": false,\n",
    "      \"browserVersion\": \"139.0.7216.0\"\n",
    "    },\n",
    "    {\n",
    "      \"name\": \"firefox\",\n",
    "      \"revision\": \"1488\",\n",
    "      \"installByDefault\": true,\n",
    "      \"browserVersion\": \"139.0\"\n",
    "    },\n",
    "    {\n",
    "      \"name\": \"firefox-beta\",\n",
    "      \"revision\": \"1482\",\n",
    "      \"installByDefault\": false,\n",
    "      \"browserVersion\": \"138.0b10\"\n",
    "    },\n",
    "    {\n",
    "      \"name\": \"webkit\",\n",
    "      \"revision\": \"2182\",\n",
    "      \"installByDefault\": true,\n",
    "      \"revisionOverrides\": {\n",
    "        \"debian11-x64\": \"2105\",\n",
    "        \"debian11-arm64\": \"2105\",\n",
    "        \"mac10.14\": \"1446\",\n",
    "        \"mac10.15\": \"1616\",\n",
    "        \"mac11\": \"1816\",\n",
    "        \"mac11-arm64\": \"1816\",\n",
    "        \"mac12\": \"2009\",\n",
    "        \"mac12-arm64\": \"2009\",\n",
    "        \"mac13\": \"2140\",\n",
    "        \"mac13-arm64\": \"2140\",\n",
    "        \"ubuntu20.04-x64\": \"2092\",\n",
    "        \"ubuntu20.04-arm64\": \"2092\"\n",
    "      },\n",
    "      \"browserVersion\": \"18.5\"\n",
    "    },\n",
    "    {\n",
    "      \"name\": \"ffmpeg\",\n",
    "      \"revision\": \"1011\",\n",
    "      \"installByDefault\": true,\n",
    "      \"revisionOverrides\": {\n",
    "        \"mac12\": \"1010\",\n",
    "        \"mac12-arm64\": \"1010\"\n",
    "      }\n",
    "    },\n",
    "    {\n",
    "      \"name\": \"winldd\",\n",
    "      \"revision\": \"1007\",\n",
    "      \"installByDefault\": false\n",
    "    },\n",
    "    {\n",
    "      \"name\": \"android\",\n",
    "      \"revision\": \"1001\",\n",
    "      \"installByDefault\": false\n",
    "    }\n",
    "  ]\n",
    "}\n",
    "```\n",
    "\n",
    "If we follow the instructions to set a environment variable of `PLAYWRIGHT_BROWSERS_PATH =  \"${pkgs.playwright-driver.browsers}\";`. The latest brower versions stored in the directory will be out of date.\n",
    "\n",
    "if I run a ls for the variable `PLAYWRIGHT_BROWSERS_PATH `, it will show out of date browsers, which will cause the errors above\n",
    "\n",
    "```bash\n",
    "ls $PLAYWRIGHT_BROWSERS_PATH \n",
    "chromium-1169@  chromium_headless_shell-1169@  ffmpeg-1011@  firefox-1482@  webkit-2158@\n",
    "```\n",
    "\n",
    "In the next couple of cells, I will show a workaround, but it doesn't work if playwright is embedded as a library."
   ]
  },
  {
   "cell_type": "code",
   "execution_count": 8,
   "id": "a78a3898",
   "metadata": {},
   "outputs": [
    {
     "data": {
      "text/plain": [
       "'/nix/store/42axmwmwydsh8kzznd1mz7lnmg0a1zkk-playwright-browsers'"
      ]
     },
     "execution_count": 8,
     "metadata": {},
     "output_type": "execute_result"
    }
   ],
   "source": [
    "import os\n",
    "playwright_browsers_path = os.environ['PLAYWRIGHT_BROWSERS_PATH']\n",
    "playwright_browsers_path"
   ]
  },
  {
   "cell_type": "code",
   "execution_count": 10,
   "id": "9aecfc03",
   "metadata": {},
   "outputs": [
    {
     "data": {
      "text/plain": [
       "'/nix/store/42axmwmwydsh8kzznd1mz7lnmg0a1zkk-playwright-browsers/firefox-1482/firefox/firefox'"
      ]
     },
     "execution_count": 10,
     "metadata": {},
     "output_type": "execute_result"
    }
   ],
   "source": [
    "firefox_executable_path = os.path.join(playwright_browsers_path, \"firefox-1482\", \"firefox\", \"firefox\")\n",
    "firefox_executable_path"
   ]
  },
  {
   "cell_type": "code",
   "execution_count": 11,
   "id": "6b16475f",
   "metadata": {},
   "outputs": [
    {
     "name": "stdout",
     "output_type": "stream",
     "text": [
      "Title: Nix & NixOS | Declarative builds and deployments\n"
     ]
    }
   ],
   "source": [
    "from playwright.async_api import async_playwright\n",
    "async with async_playwright() as p:\n",
    "    browser = await p.firefox.launch(headless=False, executable_path=firefox_executable_path)\n",
    "    page    = await browser.new_page()\n",
    "    await page.goto(\"https://nixos.org\")\n",
    "    print(\"Title:\", await page.title())\n",
    "    await browser.close()"
   ]
  },
  {
   "cell_type": "code",
   "execution_count": null,
   "id": "2c7cbeb1",
   "metadata": {},
   "outputs": [],
   "source": [
    "chromium_executable_path = os.path.join(playwright_browsers_path, \"chromium-1169\", \"chrome-linux\", \"chrome\")\n",
    "chromium_executable_path"
   ]
  },
  {
   "cell_type": "code",
   "execution_count": 14,
   "id": "3938f382",
   "metadata": {},
   "outputs": [
    {
     "name": "stdout",
     "output_type": "stream",
     "text": [
      "Title: Nix & NixOS | Declarative builds and deployments\n"
     ]
    }
   ],
   "source": [
    "from playwright.async_api import async_playwright\n",
    "async with async_playwright() as p:\n",
    "    browser = await p.chromium.launch(headless=False, executable_path=chromium_executable_path)\n",
    "    page    = await browser.new_page()\n",
    "    await page.goto(\"https://nixos.org\")\n",
    "    print(\"Title:\", await page.title())\n",
    "    await browser.close()"
   ]
  },
  {
   "cell_type": "code",
   "execution_count": null,
   "id": "478dc125",
   "metadata": {},
   "outputs": [],
   "source": []
  }
 ],
 "metadata": {
  "kernelspec": {
   "display_name": ".venv",
   "language": "python",
   "name": "python3"
  },
  "language_info": {
   "codemirror_mode": {
    "name": "ipython",
    "version": 3
   },
   "file_extension": ".py",
   "mimetype": "text/x-python",
   "name": "python",
   "nbconvert_exporter": "python",
   "pygments_lexer": "ipython3",
   "version": "3.13.3"
  }
 },
 "nbformat": 4,
 "nbformat_minor": 5
}
